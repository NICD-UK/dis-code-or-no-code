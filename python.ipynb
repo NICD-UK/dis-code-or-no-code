{
 "cells": [
  {
   "cell_type": "markdown",
   "metadata": {},
   "source": [
    "# Python"
   ]
  },
  {
   "cell_type": "markdown",
   "metadata": {},
   "source": [
    "## JupyterLab and notebooks\n",
    "\n",
    "[Jupyter](https://docs.jupyter.org/en/latest/) is an open source software project which includes [JupyterLab](https://jupyterlab.readthedocs.io/en/latest/). JupyterLab is the notebook editing environment that we are working in. A [notebook](https://jupyterlab.readthedocs.io/en/latest/user/notebook.html) is a document which combines runnable code, text and images. Notebooks are great for beginners as they allow rapid experimentation.\n",
    "\n",
    "To run a cell of code, you can use the keyboard shortcut: `Shift-Enter`"
   ]
  },
  {
   "cell_type": "markdown",
   "metadata": {},
   "source": [
    "## Importing libraries\n",
    "\n",
    "We will be working with [`pandas`](https://pandas.pydata.org/docs/user_guide/index.html#user-guide)."
   ]
  },
  {
   "cell_type": "code",
   "execution_count": null,
   "metadata": {},
   "outputs": [],
   "source": [
    "import pandas as pd"
   ]
  },
  {
   "cell_type": "markdown",
   "metadata": {},
   "source": [
    "## Reading the CSV file using pandas\n",
    "\n",
    "Pandas has a function called [`read_csv`](https://pandas.pydata.org/docs/reference/api/pandas.read_csv.html) which can be used to read CSV files. We set the `dtype` argument because this column has some missing values and pandas needs to know how to handle them. We set the `parse_dates` argument to be a list of the columns that we want to convert into datetime objects. "
   ]
  },
  {
   "cell_type": "code",
   "execution_count": null,
   "metadata": {},
   "outputs": [],
   "source": [
    "# Avoid warning by setting type on store_and_fwd_flag\n",
    "\n",
    "df = pd.read_csv(\n",
    "    filepath_or_buffer='taxi_tripdata.csv', \n",
    "    dtype={'store_and_fwd_flag': str}, \n",
    "    parse_dates=['lpep_pickup_datetime', 'lpep_dropoff_datetime']\n",
    ")"
   ]
  },
  {
   "cell_type": "markdown",
   "metadata": {},
   "source": [
    "## Data exploration\n",
    "\n",
    "Have a look at the first 5 rows using [DataFrame.head](https://pandas.pydata.org/docs/reference/api/pandas.DataFrame.head.html)."
   ]
  },
  {
   "cell_type": "code",
   "execution_count": null,
   "metadata": {},
   "outputs": [],
   "source": [
    "df.head()"
   ]
  },
  {
   "cell_type": "markdown",
   "metadata": {},
   "source": [
    "## Calculating the duration of trips\n",
    "\n",
    "Subtract `lpep_pickup_datetime` from `lpep_dropoff_datetime`, then use [Series.dt.total_seconds](https://pandas.pydata.org/docs/reference/api/pandas.Series.dt.total_seconds.html) to get the duration in seconds, and finally divide by 60 to convert seconds to minutes."
   ]
  },
  {
   "cell_type": "code",
   "execution_count": null,
   "metadata": {},
   "outputs": [],
   "source": [
    "duration = df['lpep_dropoff_datetime'] - df['lpep_pickup_datetime']\n",
    "duration_seconds = duration.dt.total_seconds()\n",
    "duration_minutes = duration_seconds / 60\n",
    "\n",
    "df['duration'] = duration_minutes\n",
    "df[['VendorID', 'duration']].head()\n"
   ]
  },
  {
   "cell_type": "markdown",
   "metadata": {},
   "source": [
    "## Calculating the speed of trips\n",
    "\n",
    "Divide `trip_distance` by `duration` and then multiply by 60 to convert miles per minute to miles per hour."
   ]
  },
  {
   "cell_type": "code",
   "execution_count": null,
   "metadata": {},
   "outputs": [],
   "source": [
    "df['speed'] = df['trip_distance'] / df['duration'] * 60\n",
    "df[['VendorID', 'duration', 'speed']].head()"
   ]
  },
  {
   "cell_type": "markdown",
   "metadata": {},
   "source": [
    "## Clean the data\n",
    "\n",
    "Have a look at the summary statistics for the `duration`, `speed`, and `trip_distance` columns.\n"
   ]
  },
  {
   "cell_type": "code",
   "execution_count": null,
   "metadata": {},
   "outputs": [],
   "source": [
    "df[['duration', 'speed', 'trip_distance']].describe().round(1).astype(str)"
   ]
  },
  {
   "cell_type": "markdown",
   "metadata": {},
   "source": [
    "Notice that the minumum duration and trip distance are both zero. This means that there are probably some rows which not real trips so we can remove them from the dataset to prevent them affecting any later analysis. \n",
    "\n",
    "DataFrames can be filtered using [boolean vectors from expressions](https://pandas.pydata.org/docs/user_guide/indexing.html#boolean-indexing).\n"
   ]
  },
  {
   "cell_type": "code",
   "execution_count": null,
   "metadata": {},
   "outputs": [],
   "source": [
    "df = df[df.duration > 0]\n",
    "df = df[df.trip_distance > 0]\n"
   ]
  },
  {
   "cell_type": "markdown",
   "metadata": {},
   "source": [
    "Have another look at the summary statistics."
   ]
  },
  {
   "cell_type": "code",
   "execution_count": null,
   "metadata": {},
   "outputs": [],
   "source": [
    "df[['duration', 'speed', 'trip_distance']].describe().round(1).astype(str)"
   ]
  },
  {
   "cell_type": "markdown",
   "metadata": {},
   "source": [
    "Notice that the maximum speed is over 5 million mph. Trips with a speed of over 100 mph are probably not real trips so let's get rid of these."
   ]
  },
  {
   "cell_type": "code",
   "execution_count": null,
   "metadata": {},
   "outputs": [],
   "source": [
    "df = df[df.speed < 100]\n",
    "df[\"speed\"].max()"
   ]
  },
  {
   "cell_type": "markdown",
   "metadata": {},
   "source": [
    "Finally, remove any trips which occured outside of July 2021."
   ]
  },
  {
   "cell_type": "code",
   "execution_count": null,
   "metadata": {},
   "outputs": [],
   "source": [
    "df = df[df['lpep_pickup_datetime'] >= 'July 2021']\n",
    "df = df[df['lpep_pickup_datetime'] < 'August 2021']\n",
    "print(f'First Date: {df[\"lpep_pickup_datetime\"].min()}. Last Date: {df[\"lpep_pickup_datetime\"].max()}')"
   ]
  },
  {
   "cell_type": "markdown",
   "metadata": {},
   "source": [
    "## Find hourly means\n",
    "\n",
    "Create an `hour` column using [Series.dt.hour](https://pandas.pydata.org/docs/reference/api/pandas.Series.dt.hour.html), then group the values using [DataFrame.groupby](https://pandas.pydata.org/docs/reference/api/pandas.DataFrame.groupby.html)."
   ]
  },
  {
   "cell_type": "code",
   "execution_count": null,
   "metadata": {},
   "outputs": [],
   "source": [
    "df['hour'] = df['lpep_pickup_datetime'].dt.hour\n",
    "means = df.groupby('hour')[['duration', 'speed', 'trip_distance']].mean()\n",
    "means"
   ]
  },
  {
   "cell_type": "markdown",
   "metadata": {},
   "source": [
    "## Plot the results"
   ]
  },
  {
   "cell_type": "code",
   "execution_count": null,
   "metadata": {},
   "outputs": [],
   "source": [
    "plot_axes = means.plot()\n",
    "plot_axes.legend([\"Duration (minutes)\", \"Speed (mph)\", \"Trip Distance (miles)\"])"
   ]
  },
  {
   "cell_type": "code",
   "execution_count": null,
   "metadata": {},
   "outputs": [],
   "source": []
  }
 ],
 "metadata": {
  "kernelspec": {
   "display_name": "dis-code-or-no-code-SDGbOJYv-py3.10",
   "language": "python",
   "name": "python3"
  },
  "language_info": {
   "codemirror_mode": {
    "name": "ipython",
    "version": 3
   },
   "file_extension": ".py",
   "mimetype": "text/x-python",
   "name": "python",
   "nbconvert_exporter": "python",
   "pygments_lexer": "ipython3",
   "version": "3.10.6"
  }
 },
 "nbformat": 4,
 "nbformat_minor": 2
}
